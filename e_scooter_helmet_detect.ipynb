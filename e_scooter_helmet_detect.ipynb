{
  "nbformat": 4,
  "nbformat_minor": 0,
  "metadata": {
    "colab": {
      "name": "Untitled0.ipynb",
      "private_outputs": true,
      "provenance": [],
      "machine_shape": "hm",
      "collapsed_sections": [],
      "authorship_tag": "ABX9TyOauVg1/dnYXdZsvq+t2P9K",
      "include_colab_link": true
    },
    "kernelspec": {
      "name": "python3",
      "display_name": "Python 3"
    },
    "language_info": {
      "name": "python"
    },
    "accelerator": "GPU"
  },
  "cells": [
    {
      "cell_type": "markdown",
      "metadata": {
        "id": "view-in-github",
        "colab_type": "text"
      },
      "source": [
        "<a href=\"https://colab.research.google.com/github/dntjr41/DeepLearning_TermP/blob/main/e_scooter_helmet_detect.ipynb\" target=\"_parent\"><img src=\"https://colab.research.google.com/assets/colab-badge.svg\" alt=\"Open In Colab\"/></a>"
      ]
    },
    {
      "cell_type": "markdown",
      "source": [
        "**1. Environment Setting**"
      ],
      "metadata": {
        "id": "A_LcAsk6U_z-"
      }
    },
    {
      "cell_type": "code",
      "execution_count": null,
      "metadata": {
        "id": "BRNPckJLc1N3"
      },
      "outputs": [],
      "source": [
        "from google.colab import drive\n",
        "drive.mount('/content/drive')"
      ]
    },
    {
      "cell_type": "code",
      "source": [
        "%cd /content/drive/MyDrive/yolov5/yolov5-master/yolov5-master"
      ],
      "metadata": {
        "id": "LvoskqMbdorZ"
      },
      "execution_count": null,
      "outputs": []
    },
    {
      "cell_type": "markdown",
      "source": [
        "**2. Install dependencies & Wandb Login**"
      ],
      "metadata": {
        "id": "a7-5kePyVGuT"
      }
    },
    {
      "cell_type": "code",
      "source": [
        "!pip install -r requirements.txt # install dependencies "
      ],
      "metadata": {
        "id": "b7uxW7Ydd2xU"
      },
      "execution_count": null,
      "outputs": []
    },
    {
      "cell_type": "code",
      "source": [
        "!pip install -U PyYAML"
      ],
      "metadata": {
        "id": "2HtHyK1td5Na"
      },
      "execution_count": null,
      "outputs": []
    },
    {
      "cell_type": "code",
      "source": [
        "!pip install wandb -qqq\n",
        "import wandb\n",
        "wandb.login()"
      ],
      "metadata": {
        "id": "86pe3fPYeBNk"
      },
      "execution_count": null,
      "outputs": []
    },
    {
      "cell_type": "code",
      "source": [
        "!pip install albumentations==1.0.3\n",
        "!pip install opencv-python==4.5.5.64"
      ],
      "metadata": {
        "id": "zR-YLNM4fGbZ"
      },
      "execution_count": null,
      "outputs": []
    },
    {
      "cell_type": "markdown",
      "source": [
        "**3. Train**"
      ],
      "metadata": {
        "id": "yS6Z0RwpVT9t"
      }
    },
    {
      "cell_type": "code",
      "source": [
        "!python train.py --data './data/helmet.yaml' --cfg './models/yolov5x_se.yaml' --weights yolov5x.pt --cache "
      ],
      "metadata": {
        "id": "vyuNR6aBeVxk"
      },
      "execution_count": null,
      "outputs": []
    },
    {
      "cell_type": "markdown",
      "source": [
        "**4. Detect**"
      ],
      "metadata": {
        "id": "7QdUmuAZVVkd"
      }
    },
    {
      "cell_type": "code",
      "source": [
        "!python detect.py --data \"data/helmet.yaml\" --weights \"runs/train/exp14/weights/best.pt\" --source \"data/videos\""
      ],
      "metadata": {
        "id": "8OsrEfiEvoMo"
      },
      "execution_count": null,
      "outputs": []
    }
  ]
}