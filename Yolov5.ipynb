{
  "nbformat": 4,
  "nbformat_minor": 0,
  "metadata": {
    "colab": {
      "name": "Yolov5.ipynb",
      "private_outputs": true,
      "provenance": [],
      "mount_file_id": "1P-rX4EZKSXmpB9gpwIUg4w_-VD14eRhe",
      "authorship_tag": "ABX9TyPrZhT1RxY3l+QccQ8aWSUf",
      "include_colab_link": true
    },
    "kernelspec": {
      "name": "python3",
      "display_name": "Python 3"
    },
    "language_info": {
      "name": "python"
    },
    "accelerator": "GPU"
  },
  "cells": [
    {
      "cell_type": "markdown",
      "metadata": {
        "id": "view-in-github",
        "colab_type": "text"
      },
      "source": [
        "<a href=\"https://colab.research.google.com/github/dntjr41/DeepLearning_TermP/blob/main/Yolov5.ipynb\" target=\"_parent\"><img src=\"https://colab.research.google.com/assets/colab-badge.svg\" alt=\"Open In Colab\"/></a>"
      ]
    },
    {
      "cell_type": "markdown",
      "source": [
        "# 1. Environment Setting\n"
      ],
      "metadata": {
        "id": "hpYTQoQn6IdK"
      }
    },
    {
      "cell_type": "code",
      "execution_count": null,
      "metadata": {
        "id": "a-CD6B5G57Z4"
      },
      "outputs": [],
      "source": [
        "from google.colab import drive\n",
        "drive.mount('/content/drive', force_remount=True)\n",
        "\n",
        "%cd drive/MyDrive/2022_dl_project\n",
        "!pwd\n",
        "!ls -la"
      ]
    },
    {
      "cell_type": "code",
      "source": [
        "import tqdm\n",
        "import zipfile\n",
        "import os\n",
        "import glob\n",
        "import shutil\n",
        "\n",
        "file_name = 'on + off dataset'\n",
        "!unzip -qq '{file_name}'\n",
        "\n",
        "shutil.move('on + off dataset/images', 'yolov5/data')\n",
        "shutil.move('on + off dataset/labels', 'yolov5/data')"
      ],
      "metadata": {
        "id": "2Pd71g5uLyph"
      },
      "execution_count": null,
      "outputs": []
    },
    {
      "cell_type": "code",
      "source": [
        "!git clone https://github.com/ultralytics/yolov5\n",
        "\n",
        "%cd yolov5\n",
        "!pip install -r requirements.txt"
      ],
      "metadata": {
        "id": "Jp1GAOUu9Oph"
      },
      "execution_count": null,
      "outputs": []
    },
    {
      "cell_type": "markdown",
      "source": [
        "# 2. Set & Login Wandb"
      ],
      "metadata": {
        "id": "siCXumRvOfLG"
      }
    },
    {
      "cell_type": "code",
      "source": [
        "!pip install albumentations\n",
        "!pip install wandb\n",
        "import wandb"
      ],
      "metadata": {
        "id": "ld9m8kaTMFls"
      },
      "execution_count": null,
      "outputs": []
    },
    {
      "cell_type": "code",
      "source": [
        "wandb.login()"
      ],
      "metadata": {
        "id": "jmBWele3OlIz"
      },
      "execution_count": null,
      "outputs": []
    },
    {
      "cell_type": "code",
      "source": [
        "wandb.init(settings=wandb.Settings(start_method=\"thread\"))"
      ],
      "metadata": {
        "id": "zoGJpFBMO81P"
      },
      "execution_count": null,
      "outputs": []
    },
    {
      "cell_type": "markdown",
      "source": [
        "# 3. Training\n"
      ],
      "metadata": {
        "id": "N0dQhlw4PHsx"
      }
    },
    {
      "cell_type": "code",
      "source": [
        "!python train.py --img 640 --batch 16 --epochs 400 --freeze 10 --data './data/helmet.yaml' --cfg './models/yolov5m.yaml' --weights yolov5s.pt --name wooseok --cache"
      ],
      "metadata": {
        "id": "n9n9iHYzjx6u"
      },
      "execution_count": null,
      "outputs": []
    },
    {
      "cell_type": "markdown",
      "source": [
        "# 4. Validation"
      ],
      "metadata": {
        "id": "K1509XwvXeIc"
      }
    },
    {
      "cell_type": "code",
      "source": [
        "!python val.py --img 640 --iou 0.65 --half --data './data/helmet.yaml' --weights yolov5s.pt "
      ],
      "metadata": {
        "id": "kqXTwJ2BXfwW"
      },
      "execution_count": null,
      "outputs": []
    }
  ]
}